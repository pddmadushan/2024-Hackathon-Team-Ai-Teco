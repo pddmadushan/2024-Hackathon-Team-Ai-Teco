{
  "nbformat": 4,
  "nbformat_minor": 0,
  "metadata": {
    "colab": {
      "provenance": [],
      "authorship_tag": "ABX9TyOsqWa6tHe36jGfQwyRSvxa",
      "include_colab_link": true
    },
    "kernelspec": {
      "name": "python3",
      "display_name": "Python 3"
    },
    "language_info": {
      "name": "python"
    }
  },
  "cells": [
    {
      "cell_type": "markdown",
      "metadata": {
        "id": "view-in-github",
        "colab_type": "text"
      },
      "source": [
        "<a href=\"https://colab.research.google.com/github/pddmadushan/2024-Hackathon-Team-Ai-Teco/blob/main/Untitled26.ipynb\" target=\"_parent\"><img src=\"https://colab.research.google.com/assets/colab-badge.svg\" alt=\"Open In Colab\"/></a>"
      ]
    },
    {
      "cell_type": "code",
      "source": [
        "!pip install openai==0.28"
      ],
      "metadata": {
        "colab": {
          "base_uri": "https://localhost:8080/",
          "height": 599
        },
        "id": "ggdY6HDBTBFt",
        "outputId": "fb3c78aa-6c2b-499d-dfb2-9d9132995078"
      },
      "execution_count": 10,
      "outputs": [
        {
          "output_type": "stream",
          "name": "stdout",
          "text": [
            "Collecting openai==0.28\n",
            "  Downloading openai-0.28.0-py3-none-any.whl.metadata (13 kB)\n",
            "Requirement already satisfied: requests>=2.20 in /usr/local/lib/python3.10/dist-packages (from openai==0.28) (2.32.3)\n",
            "Requirement already satisfied: tqdm in /usr/local/lib/python3.10/dist-packages (from openai==0.28) (4.66.5)\n",
            "Requirement already satisfied: aiohttp in /usr/local/lib/python3.10/dist-packages (from openai==0.28) (3.10.10)\n",
            "Requirement already satisfied: charset-normalizer<4,>=2 in /usr/local/lib/python3.10/dist-packages (from requests>=2.20->openai==0.28) (3.4.0)\n",
            "Requirement already satisfied: idna<4,>=2.5 in /usr/local/lib/python3.10/dist-packages (from requests>=2.20->openai==0.28) (3.10)\n",
            "Requirement already satisfied: urllib3<3,>=1.21.1 in /usr/local/lib/python3.10/dist-packages (from requests>=2.20->openai==0.28) (2.2.3)\n",
            "Requirement already satisfied: certifi>=2017.4.17 in /usr/local/lib/python3.10/dist-packages (from requests>=2.20->openai==0.28) (2024.8.30)\n",
            "Requirement already satisfied: aiohappyeyeballs>=2.3.0 in /usr/local/lib/python3.10/dist-packages (from aiohttp->openai==0.28) (2.4.3)\n",
            "Requirement already satisfied: aiosignal>=1.1.2 in /usr/local/lib/python3.10/dist-packages (from aiohttp->openai==0.28) (1.3.1)\n",
            "Requirement already satisfied: attrs>=17.3.0 in /usr/local/lib/python3.10/dist-packages (from aiohttp->openai==0.28) (24.2.0)\n",
            "Requirement already satisfied: frozenlist>=1.1.1 in /usr/local/lib/python3.10/dist-packages (from aiohttp->openai==0.28) (1.4.1)\n",
            "Requirement already satisfied: multidict<7.0,>=4.5 in /usr/local/lib/python3.10/dist-packages (from aiohttp->openai==0.28) (6.1.0)\n",
            "Requirement already satisfied: yarl<2.0,>=1.12.0 in /usr/local/lib/python3.10/dist-packages (from aiohttp->openai==0.28) (1.16.0)\n",
            "Requirement already satisfied: async-timeout<5.0,>=4.0 in /usr/local/lib/python3.10/dist-packages (from aiohttp->openai==0.28) (4.0.3)\n",
            "Requirement already satisfied: typing-extensions>=4.1.0 in /usr/local/lib/python3.10/dist-packages (from multidict<7.0,>=4.5->aiohttp->openai==0.28) (4.12.2)\n",
            "Requirement already satisfied: propcache>=0.2.0 in /usr/local/lib/python3.10/dist-packages (from yarl<2.0,>=1.12.0->aiohttp->openai==0.28) (0.2.0)\n",
            "Downloading openai-0.28.0-py3-none-any.whl (76 kB)\n",
            "\u001b[2K   \u001b[90m━━━━━━━━━━━━━━━━━━━━━━━━━━━━━━━━━━━━━━━━\u001b[0m \u001b[32m76.5/76.5 kB\u001b[0m \u001b[31m6.5 MB/s\u001b[0m eta \u001b[36m0:00:00\u001b[0m\n",
            "\u001b[?25hInstalling collected packages: openai\n",
            "  Attempting uninstall: openai\n",
            "    Found existing installation: openai 1.52.2\n",
            "    Uninstalling openai-1.52.2:\n",
            "      Successfully uninstalled openai-1.52.2\n",
            "Successfully installed openai-0.28.0\n"
          ]
        },
        {
          "output_type": "display_data",
          "data": {
            "application/vnd.colab-display-data+json": {
              "pip_warning": {
                "packages": [
                  "openai"
                ]
              },
              "id": "59a1c5cf02554447aeb2f9c02d670e09"
            }
          },
          "metadata": {}
        }
      ]
    },
    {
      "cell_type": "code",
      "execution_count": 9,
      "metadata": {
        "id": "eNMQbllXHedG"
      },
      "outputs": [],
      "source": [
        "import openai\n",
        "\n",
        "# Set your OpenAI API key\n",
        "openai.api_key = \"\"  # Replace with your actual API key\n",
        "\n",
        "# Example usage of the generator\n",
        "def generate_code(prompt):\n",
        "    response = openai.ChatCompletion.create(\n",
        "        model=\"gpt-4o\",  # Use \"gpt-3.5-turbo\" or any other model you prefer\n",
        "        messages=[\n",
        "            {\"role\": \"system\", \"content\": \"You are a helpful assistant.\"},\n",
        "            {\"role\": \"user\", \"content\": prompt}\n",
        "        ],\n",
        "        temperature=0.7,\n",
        "        max_tokens=500,\n",
        "    )\n",
        "    return response['choices'][0]['message']['content']"
      ]
    },
    {
      "cell_type": "code",
      "source": [
        "# Step 1: Install Required Libraries\n",
        "!pip install -q torch transformers sentence-transformers faiss-cpu accelerate pyngrok flask_cors\n",
        "\n",
        "# Step 2: Load Required Libraries\n",
        "from sentence_transformers import SentenceTransformer\n",
        "import numpy as np\n",
        "import faiss\n",
        "\n",
        "# Step 3: Load and Parse RAG Text File\n",
        "file_path = '/content/SampleTestCode2.txt'  # Change this to your actual file path\n",
        "\n",
        "with open(file_path, 'r') as f:\n",
        "    text_data = f.read()\n",
        "\n",
        "# Step 4: Parsing Logic to Extract Chunks Enclosed in `### ... ###`\n",
        "import re\n",
        "\n",
        "# Pattern to match any text enclosed by `### ... ###`\n",
        "pattern = r'###(.*?)###'\n",
        "\n",
        "# Extract all matches for text enclosed by ###\n",
        "matches = re.findall(pattern, text_data, re.DOTALL)\n",
        "\n",
        "# Check if matches are detected and display them for debugging\n",
        "if not matches:\n",
        "    print(\"No matches found. Please check the file format.\")\n",
        "else:\n",
        "    print(f\"Total matches found: {len(matches)}\")\n",
        "\n",
        "# Format chunks by stripping any extra whitespace\n",
        "formatted_chunks = [match.strip() for match in matches]\n",
        "\n",
        "# Final check on chunks\n",
        "print(f\"Number of formatted chunks: {len(formatted_chunks)}\")\n",
        "if formatted_chunks:\n",
        "    print(f\"First formatted chunk:\\n{formatted_chunks[0]}\")\n",
        "\n",
        "# Step 5: Load Sentence Transformer Model for Embeddings\n",
        "embedding_model = SentenceTransformer('all-MiniLM-L6-v2')\n",
        "\n",
        "# Step 6: Create Embeddings for Each Chunk\n",
        "embeddings = embedding_model.encode(formatted_chunks)\n",
        "\n",
        "# Check the shape of embeddings\n",
        "print(f\"Embeddings shape: {embeddings.shape}\")\n",
        "\n",
        "# Ensure embeddings are valid before proceeding\n",
        "if embeddings.size == 0:\n",
        "    raise ValueError(\"No embeddings were created. Please check your input data.\")\n",
        "\n",
        "# Step 7: Create a FAISS Index for Efficient Retrieval\n",
        "dimension = embeddings.shape[1]  # Get the number of dimensions for FAISS index\n",
        "index = faiss.IndexFlatL2(dimension)  # L2 distance index\n",
        "index.add(np.array(embeddings))  # Add your embeddings to the index\n",
        "\n",
        "print(\"FAISS index created and embeddings added successfully.\")\n",
        "\n",
        "# Step 8: Define Retrieval Function with Deduplication\n",
        "def retrieve_code(query):\n",
        "    query_embedding = embedding_model.encode([query])\n",
        "    distances, indices = index.search(np.array(query_embedding), k=1)  # Retrieve only the top 1 similar chunk\n",
        "\n",
        "    # Get the most relevant chunk based on the top index\n",
        "    top_chunk = formatted_chunks[indices[0][0]] if indices[0][0] < len(formatted_chunks) else None\n",
        "\n",
        "    # Clean up any unexpected whitespace or newlines\n",
        "    return top_chunk.strip() if top_chunk else None"
      ],
      "metadata": {
        "colab": {
          "base_uri": "https://localhost:8080/"
        },
        "id": "x617i85fT4aZ",
        "outputId": "620cfc6f-ec49-4198-b821-4f177e406d75"
      },
      "execution_count": 12,
      "outputs": [
        {
          "output_type": "stream",
          "name": "stdout",
          "text": [
            "Total matches found: 3\n",
            "Number of formatted chunks: 3\n",
            "First formatted chunk:\n",
            "Prompt: Create a Sales Order\n",
            "namespace TestsInternal.Tests { // Create the class and Check public class SalesOrderTC : Check { // Create an instance of the OrderSoQP OrderSoQP SalesOrder = new OrderSoQP(); public override void Execute() { // Log in to the destination site PxLogin.LoginToDestinationSite(); #region Testcase1: Create a Sales Order using (TestExecution.CreateTestCaseGroup(\"Testcase1: Create a Sales Order\")) { #region Teststep2: Add a sales order using (TestExecution.CreateTestStepGroup(\"Teststep2: Add a sales order\")) { // Open the Sales Order screen and perform actions SalesOrder.OpenScreen(); SalesOrder.Insert(); SalesOrder.Summary.CustomerID.Select(\"\"); // Add appropriate customer ID SalesOrder.Summary.OrderDesc.Type(\"\"); // Provide the order description SalesOrder.Save(); // Save the order } #endregion } #endregion } } }\n"
          ]
        },
        {
          "output_type": "stream",
          "name": "stderr",
          "text": [
            "/usr/local/lib/python3.10/dist-packages/transformers/tokenization_utils_base.py:1601: FutureWarning: `clean_up_tokenization_spaces` was not set. It will be set to `True` by default. This behavior will be depracted in transformers v4.45, and will be then set to `False` by default. For more details check this issue: https://github.com/huggingface/transformers/issues/31884\n",
            "  warnings.warn(\n"
          ]
        },
        {
          "output_type": "stream",
          "name": "stdout",
          "text": [
            "Embeddings shape: (3, 384)\n",
            "FAISS index created and embeddings added successfully.\n",
            "Retrieved Context:\n",
            "\n",
            "Prompt: Create a Sales Order\n",
            "namespace TestsInternal.Tests { // Create the class and Check public class SalesOrderTC : Check { // Create an instance of the OrderSoQP OrderSoQP SalesOrder = new OrderSoQP(); public override void Execute() { // Log in to the destination site PxLogin.LoginToDestinationSite(); #region Testcase1: Create a Sales Order using (TestExecution.CreateTestCaseGroup(\"Testcase1: Create a Sales Order\")) { #region Teststep2: Add a sales order using (TestExecution.CreateTestStepGroup(\"Teststep2: Add a sales order\")) { // Open the Sales Order screen and perform actions SalesOrder.OpenScreen(); SalesOrder.Insert(); SalesOrder.Summary.CustomerID.Select(\"\"); // Add appropriate customer ID SalesOrder.Summary.OrderDesc.Type(\"\"); // Provide the order description SalesOrder.Save(); // Save the order } #endregion } #endregion } } }\n"
          ]
        }
      ]
    },
    {
      "cell_type": "code",
      "source": [
        "# Import necessary modules\n",
        "from flask import Flask, request, jsonify  # Flask for web server functionality\n",
        "from pyngrok import ngrok  # pyngrok for creating secure tunnels to local servers\n",
        "import requests  # requests for making HTTP requests\n",
        "from flask_cors import CORS  # Import CORS for Cross-Origin Resource Sharing\n",
        "import cv2  # OpenCV for image processing\n",
        "import numpy as np  # NumPy for numerical computing\n",
        "import tensorflow as tf  # TensorFlow for deep learning"
      ],
      "metadata": {
        "id": "5ojUl3tZYozl"
      },
      "execution_count": 19,
      "outputs": []
    },
    {
      "cell_type": "code",
      "source": [
        "port_no = 5000 #Defining Port"
      ],
      "metadata": {
        "id": "vKl8eMqdYvua"
      },
      "execution_count": 20,
      "outputs": []
    },
    {
      "cell_type": "code",
      "source": [
        "# Initialize Flask app\n",
        "app = Flask(__name__)\n",
        "\n",
        "# Enable CORS for all routes\n",
        "CORS(app)\n",
        "\n",
        "# Set ngrok authentication token\n",
        "ngrok.set_auth_token(\"2cOOhCeMaiDYjZWi1b1NGCYfLnO_5FqABvBX85mm9gNZf5jnK\")\n",
        "\n",
        "# Connect to ngrok and get public URL\n",
        "port_no = 5000  # Set the port number\n",
        "public_url = ngrok.connect(port_no).public_url\n",
        "\n",
        "# Define route for home page\n",
        "@app.route(\"/\")\n",
        "def home():\n",
        "    return f\"Running Flask on Google Colab!\"  # Return a message indicating Flask is running\n",
        "\n",
        "# Print the public URL\n",
        "print(f\"To access the Global link please click {public_url}\")"
      ],
      "metadata": {
        "colab": {
          "base_uri": "https://localhost:8080/"
        },
        "id": "6KsIC_bhYyYd",
        "outputId": "2269c81d-1cab-4917-9128-bbec4b0feac6"
      },
      "execution_count": 24,
      "outputs": [
        {
          "output_type": "stream",
          "name": "stdout",
          "text": [
            "To access the Global link please click https://249e-35-236-212-91.ngrok-free.app\n"
          ]
        }
      ]
    },
    {
      "cell_type": "code",
      "source": [
        "# Define route for generating responses\n",
        "@app.route('/generate_response', methods=['POST'])\n",
        "def generate_response():\n",
        "    # Get prompt from the request\n",
        "    data = request.json\n",
        "    userQuery = data.get('userQuery', '')\n",
        "\n",
        "    print(userQuery)\n",
        "\n",
        "    # Wrap the prompt using the right chat template\n",
        "    relevant_chunks = retrieve_code(userQuery)\n",
        "    context = relevant_chunks\n",
        "    prompt = f\"Based on the following code snippets: {context}, please only  the generate code for and dont add comments as well : {userQuery}\"\n",
        "\n",
        "    # Trim the response, remove instruction manually\n",
        "    response = generate_code(prompt)\n",
        "\n",
        "    print(response)\n",
        "\n",
        "    # Return the generated response as JSON\n",
        "    return jsonify({\"response\": response})\n",
        "\n",
        "# Start the Flask app\n",
        "if __name__ == '__main__':\n",
        "    app.run(port=port_no)  # Run the app on the specified port\n"
      ],
      "metadata": {
        "colab": {
          "base_uri": "https://localhost:8080/"
        },
        "id": "CtlTiphSY0bX",
        "outputId": "9eec99d6-b379-4907-d735-2afe653b6627"
      },
      "execution_count": null,
      "outputs": [
        {
          "metadata": {
            "tags": null
          },
          "name": "stdout",
          "output_type": "stream",
          "text": [
            " * Serving Flask app '__main__'\n",
            " * Debug mode: off\n"
          ]
        },
        {
          "metadata": {
            "tags": null
          },
          "name": "stderr",
          "output_type": "stream",
          "text": [
            "INFO:werkzeug:\u001b[31m\u001b[1mWARNING: This is a development server. Do not use it in a production deployment. Use a production WSGI server instead.\u001b[0m\n",
            " * Running on http://127.0.0.1:5000\n",
            "INFO:werkzeug:\u001b[33mPress CTRL+C to quit\u001b[0m\n"
          ]
        },
        {
          "metadata": {
            "tags": null
          },
          "name": "stdout",
          "output_type": "stream",
          "text": [
            "create a sales order\n"
          ]
        },
        {
          "metadata": {
            "tags": null
          },
          "name": "stderr",
          "output_type": "stream",
          "text": [
            "INFO:werkzeug:127.0.0.1 - - [25/Oct/2024 15:58:24] \"POST /generate_response HTTP/1.1\" 200 -\n"
          ]
        },
        {
          "metadata": {
            "tags": null
          },
          "name": "stdout",
          "output_type": "stream",
          "text": [
            "```csharp\n",
            "namespace TestsInternal.Tests {\n",
            "    public class SalesOrderTC : Check {\n",
            "        OrderSoQP SalesOrder = new OrderSoQP();\n",
            "        public override void Execute() {\n",
            "            PxLogin.LoginToDestinationSite();\n",
            "            using (TestExecution.CreateTestCaseGroup(\"Testcase1: Create a Sales Order\")) {\n",
            "                using (TestExecution.CreateTestStepGroup(\"Teststep2: Add a sales order\")) {\n",
            "                    SalesOrder.OpenScreen();\n",
            "                    SalesOrder.Insert();\n",
            "                    SalesOrder.Summary.CustomerID.Select(\"\");\n",
            "                    SalesOrder.Summary.OrderDesc.Type(\"\");\n",
            "                    SalesOrder.Save();\n",
            "                }\n",
            "            }\n",
            "        }\n",
            "    }\n",
            "}\n",
            "```\n",
            "Create a Journal Entry with file path /content/SampleTestCode2.txt\n"
          ]
        },
        {
          "metadata": {
            "tags": null
          },
          "name": "stderr",
          "output_type": "stream",
          "text": [
            "INFO:werkzeug:127.0.0.1 - - [25/Oct/2024 16:00:24] \"POST /generate_response HTTP/1.1\" 200 -\n"
          ]
        },
        {
          "metadata": {
            "tags": null
          },
          "name": "stdout",
          "output_type": "stream",
          "text": [
            "```csharp\n",
            "namespace TestsInternal.Tests {\n",
            "    [TestDescription(\"JournalEntryTC\")]\n",
            "    public class JournalEntryTC: Check {\n",
            "        JournalEntry JournalEntry = new JournalEntry();\n",
            "        public override void Execute() {\n",
            "            PxLogin.LoginToDestinationSite();\n",
            "            using (TestExecution.CreateTestCaseGroup(\"Testcase1 : Create a journal entry\")) {\n",
            "                using (TestExecution.CreateTestStepGroup(\"Teststep1:Create a journal entry\")) {\n",
            "                    JournalEntry.OpenScreen();\n",
            "                    JournalEntry.Insert();\n",
            "                    JournalEntry.Details.Upload();\n",
            "                    JournalEntry.Details.UploadForm.SelectFile(\"/content/SampleTestCode2.txt\");\n",
            "                    JournalEntry.Details.UploadForm.Upload();\n",
            "                    JournalEntry.ImportColumns.Ok();\n",
            "                    JournalEntry.Release();\n",
            "                }\n",
            "            }\n",
            "        }\n",
            "    }\n",
            "}\n",
            "```\n",
            "Create a Journal Entry with file path /content/SampleTestCode2.txt\n"
          ]
        },
        {
          "metadata": {
            "tags": null
          },
          "name": "stderr",
          "output_type": "stream",
          "text": [
            "INFO:werkzeug:127.0.0.1 - - [25/Oct/2024 16:03:27] \"POST /generate_response HTTP/1.1\" 200 -\n"
          ]
        },
        {
          "metadata": {
            "tags": null
          },
          "name": "stdout",
          "output_type": "stream",
          "text": [
            "```csharp\n",
            "namespace TestsInternal.Tests\n",
            "{\n",
            "    [TestDescription(\"JournalEntryTC\")]\n",
            "    public class JournalEntryTC : Check\n",
            "    {\n",
            "        JournalEntry JournalEntry = new JournalEntry();\n",
            "\n",
            "        public override void Execute()\n",
            "        {\n",
            "            PxLogin.LoginToDestinationSite();\n",
            "\n",
            "            using (TestExecution.CreateTestCaseGroup(\"Testcase1 : Create a journal entry\"))\n",
            "            {\n",
            "                using (TestExecution.CreateTestStepGroup(\"Teststep1:Create a journal entry\"))\n",
            "                {\n",
            "                    JournalEntry.OpenScreen();\n",
            "                    JournalEntry.Insert();\n",
            "                    JournalEntry.Details.Upload();\n",
            "                    JournalEntry.Details.UploadForm.SelectFile(\"/content/SampleTestCode2.txt\");\n",
            "                    JournalEntry.Details.UploadForm.Upload();\n",
            "                    JournalEntry.ImportColumns.Ok();\n",
            "                    JournalEntry.Release();\n",
            "                }\n",
            "            }\n",
            "        }\n",
            "    }\n",
            "}\n",
            "```\n",
            "Create a Journal Entry with file path /content/SampleTestCode2.txt\n"
          ]
        },
        {
          "metadata": {
            "tags": null
          },
          "name": "stderr",
          "output_type": "stream",
          "text": [
            "INFO:werkzeug:127.0.0.1 - - [25/Oct/2024 16:06:26] \"POST /generate_response HTTP/1.1\" 200 -\n"
          ]
        },
        {
          "metadata": {
            "tags": null
          },
          "name": "stdout",
          "output_type": "stream",
          "text": [
            "```csharp\n",
            "namespace TestsInternal.Tests\n",
            "{\n",
            "    [TestDescription(\"JournalEntryTC\")]\n",
            "    public class JournalEntryTC : Check\n",
            "    {\n",
            "        JournalEntry JournalEntry = new JournalEntry();\n",
            "        public override void Execute()\n",
            "        {\n",
            "            PxLogin.LoginToDestinationSite();\n",
            "            using (TestExecution.CreateTestCaseGroup(\"Testcase1 : Create a journal entry\"))\n",
            "            {\n",
            "                using (TestExecution.CreateTestStepGroup(\"Teststep1:Create a journal entry\"))\n",
            "                {\n",
            "                    JournalEntry.OpenScreen();\n",
            "                    JournalEntry.Insert();\n",
            "                    JournalEntry.Details.Upload();\n",
            "                    JournalEntry.Details.UploadForm.SelectFile(\"/content/SampleTestCode2.txt\");\n",
            "                    JournalEntry.Details.UploadForm.Upload();\n",
            "                    JournalEntry.ImportColumns.Ok();\n",
            "                    JournalEntry.Release();\n",
            "                }\n",
            "            }\n",
            "        }\n",
            "    }\n",
            "}\n",
            "```\n",
            "Create a Journal Entry with file path /content/SampleTestCode2.txt\n"
          ]
        },
        {
          "metadata": {
            "tags": null
          },
          "name": "stderr",
          "output_type": "stream",
          "text": [
            "INFO:werkzeug:127.0.0.1 - - [25/Oct/2024 16:10:11] \"POST /generate_response HTTP/1.1\" 200 -\n"
          ]
        },
        {
          "metadata": {
            "tags": null
          },
          "name": "stdout",
          "output_type": "stream",
          "text": [
            "```csharp\n",
            "namespace TestsInternal.Tests {\n",
            "    [TestDescription(\"JournalEntryTC\")]\n",
            "    public class JournalEntryTC : Check {\n",
            "        JournalEntry JournalEntry = new JournalEntry();\n",
            "        public override void Execute() {\n",
            "            PxLogin.LoginToDestinationSite();\n",
            "            using (TestExecution.CreateTestCaseGroup(\"Testcase1 : Create a journal entry\")) {\n",
            "                using (TestExecution.CreateTestStepGroup(\"Teststep1:Create a journal entry\")) {\n",
            "                    JournalEntry.OpenScreen();\n",
            "                    JournalEntry.Insert();\n",
            "                    JournalEntry.Details.Upload();\n",
            "                    JournalEntry.Details.UploadForm.SelectFile(Support.GetContentFilePath(\"/content/SampleTestCode2.txt\"));\n",
            "                    JournalEntry.Details.UploadForm.Upload();\n",
            "                    JournalEntry.ImportColumns.Ok();\n",
            "                    JournalEntry.Release();\n",
            "                }\n",
            "            }\n",
            "        }\n",
            "    }\n",
            "}\n",
            "```\n",
            "Create a Journal Entry with file path /content/SampleTestCode2.txt\n"
          ]
        },
        {
          "metadata": {
            "tags": null
          },
          "name": "stderr",
          "output_type": "stream",
          "text": [
            "INFO:werkzeug:127.0.0.1 - - [25/Oct/2024 16:12:22] \"POST /generate_response HTTP/1.1\" 200 -\n"
          ]
        },
        {
          "metadata": {
            "tags": null
          },
          "name": "stdout",
          "output_type": "stream",
          "text": [
            "```csharp\n",
            "namespace TestsInternal.Tests {\n",
            "    [TestDescription(\"JournalEntryTC\")]\n",
            "    public class JournalEntryTC: Check {\n",
            "        JournalEntry JournalEntry = new JournalEntry();\n",
            "        public override void Execute() {\n",
            "            PxLogin.LoginToDestinationSite();\n",
            "            using (TestExecution.CreateTestCaseGroup(\"Testcase1 : Create a journal entry with file path /content/SampleTestCode2.txt\")) {\n",
            "                using (TestExecution.CreateTestStepGroup(\"Teststep1:Create a journal entry\")) {\n",
            "                    JournalEntry.OpenScreen();\n",
            "                    JournalEntry.Insert();\n",
            "                    JournalEntry.Details.Upload();\n",
            "                    JournalEntry.Details.UploadForm.SelectFile(Support.GetContentFilePath(\"/content/SampleTestCode2.txt\"));\n",
            "                    JournalEntry.Details.UploadForm.Upload();\n",
            "                    JournalEntry.ImportColumns.Ok();\n",
            "                    JournalEntry.Release();\n",
            "                }\n",
            "            }\n",
            "        }\n",
            "    }\n",
            "}\n",
            "```\n",
            "Create a Journal Entry with file path /content/SampleTestCode2.txt\n"
          ]
        },
        {
          "metadata": {
            "tags": null
          },
          "name": "stderr",
          "output_type": "stream",
          "text": [
            "INFO:werkzeug:127.0.0.1 - - [25/Oct/2024 16:17:52] \"POST /generate_response HTTP/1.1\" 200 -\n"
          ]
        },
        {
          "metadata": {
            "tags": null
          },
          "name": "stdout",
          "output_type": "stream",
          "text": [
            "```csharp\n",
            "namespace TestsInternal.Tests {\n",
            "    public class JournalEntryTC: Check {\n",
            "        JournalEntry JournalEntry= new JournalEntry();\n",
            "        public override void Execute() {\n",
            "            PxLogin.LoginToDestinationSite();\n",
            "            using (TestExecution.CreateTestCaseGroup(\"Testcase1 : Create a journal entry\")) {\n",
            "                using (TestExecution.CreateTestStepGroup(\"Teststep1:Create a journal entry\")) {\n",
            "                    JournalEntry.OpenScreen();\n",
            "                    JournalEntry.Insert();\n",
            "                    JournalEntry.Details.Upload();\n",
            "                    JournalEntry.Details.UploadForm.SelectFile(Support.GetContentFilePath(\"/content/SampleTestCode2.txt\"));\n",
            "                    JournalEntry.Details.UploadForm.Upload();\n",
            "                    JournalEntry.ImportColumns.Ok();\n",
            "                    JournalEntry.Release();\n",
            "                }\n",
            "            }\n",
            "        }\n",
            "    }\n",
            "}\n",
            "```\n",
            "Create a Journal Entry with file path /content/SampleTestCode2.txt\n"
          ]
        },
        {
          "metadata": {
            "tags": null
          },
          "name": "stderr",
          "output_type": "stream",
          "text": [
            "INFO:werkzeug:127.0.0.1 - - [25/Oct/2024 16:21:55] \"POST /generate_response HTTP/1.1\" 200 -\n"
          ]
        },
        {
          "metadata": {
            "tags": null
          },
          "name": "stdout",
          "output_type": "stream",
          "text": [
            "```csharp\n",
            "namespace TestsInternal.Tests\n",
            "{\n",
            "    [TestDescription(\"JournalEntryTC\")]\n",
            "    public class JournalEntryTC : Check\n",
            "    {\n",
            "        JournalEntry JournalEntry = new JournalEntry();\n",
            "\n",
            "        public override void Execute()\n",
            "        {\n",
            "            PxLogin.LoginToDestinationSite();\n",
            "\n",
            "            using (TestExecution.CreateTestCaseGroup(\"Testcase1 : Create a journal entry\"))\n",
            "            {\n",
            "                using (TestExecution.CreateTestStepGroup(\"Teststep1:Create a journal entry\"))\n",
            "                {\n",
            "                    JournalEntry.OpenScreen();\n",
            "                    JournalEntry.Insert();\n",
            "                    JournalEntry.Details.Upload();\n",
            "                    JournalEntry.Details.UploadForm.SelectFile(\"/content/SampleTestCode2.txt\");\n",
            "                    JournalEntry.Details.UploadForm.Upload();\n",
            "                    JournalEntry.ImportColumns.Ok();\n",
            "                    JournalEntry.Release();\n",
            "                }\n",
            "            }\n",
            "        }\n",
            "    }\n",
            "}\n",
            "```\n",
            "Create a Journal Entry with file path /content/SampleTestCode2.txt\n"
          ]
        },
        {
          "metadata": {
            "tags": null
          },
          "name": "stderr",
          "output_type": "stream",
          "text": [
            "INFO:werkzeug:127.0.0.1 - - [25/Oct/2024 16:36:04] \"POST /generate_response HTTP/1.1\" 200 -\n"
          ]
        },
        {
          "metadata": {
            "tags": null
          },
          "name": "stdout",
          "output_type": "stream",
          "text": [
            "```csharp\n",
            "namespace TestsInternal.Tests {\n",
            "    [TestDescription(\"JournalEntryTC\")]\n",
            "    public class JournalEntryTC: Check {\n",
            "        JournalEntry JournalEntry= new JournalEntry();\n",
            "        public override void Execute() {\n",
            "            PxLogin.LoginToDestinationSite();\n",
            "            using (TestExecution.CreateTestCaseGroup(\"Testcase1 : Create a journal entry\")) {\n",
            "                using (TestExecution.CreateTestStepGroup(\"Teststep1:Create a journal entry\")) {\n",
            "                    JournalEntry.OpenScreen();\n",
            "                    JournalEntry.Insert();\n",
            "                    JournalEntry.Details.Upload();\n",
            "                    JournalEntry.Details.UploadForm.SelectFile(Support.GetContentFilePath(\"/content/SampleTestCode2.txt\"));\n",
            "                    JournalEntry.Details.UploadForm.Upload();\n",
            "                    JournalEntry.ImportColumns.Ok();\n",
            "                    JournalEntry.Release();\n",
            "                }\n",
            "            }\n",
            "        }\n",
            "    }\n",
            "}\n",
            "```\n",
            "Create a sales order with customer id cust123 and inentory id is inv100\n"
          ]
        },
        {
          "metadata": {
            "tags": null
          },
          "name": "stderr",
          "output_type": "stream",
          "text": [
            "INFO:werkzeug:127.0.0.1 - - [25/Oct/2024 16:41:33] \"POST /generate_response HTTP/1.1\" 200 -\n"
          ]
        },
        {
          "metadata": {
            "tags": null
          },
          "name": "stdout",
          "output_type": "stream",
          "text": [
            "```csharp\n",
            "namespace TestsInternal.Tests {\n",
            "    public class SalesOrderTC : Check {\n",
            "        OrderSoQP SalesOrder = new OrderSoQP();\n",
            "        public override void Execute() {\n",
            "            PxLogin.LoginToDestinationSite();\n",
            "            using (TestExecution.CreateTestCaseGroup(\"Testcase1: Create a Sales Order\")) {\n",
            "                using (TestExecution.CreateTestStepGroup(\"Teststep2: Add a sales order\")) {\n",
            "                    SalesOrder.OpenScreen();\n",
            "                    SalesOrder.Insert();\n",
            "                    SalesOrder.Summary.CustomerID.Select(\"cust123\");\n",
            "                    SalesOrder.Summary.OrderDesc.Type(\"Order with inventory id inv100\");\n",
            "                    SalesOrder.Save();\n",
            "                }\n",
            "            }\n",
            "        }\n",
            "    }\n",
            "}\n",
            "```\n",
            "Create Sales Order using customer id Cust123\n"
          ]
        },
        {
          "metadata": {
            "tags": null
          },
          "name": "stderr",
          "output_type": "stream",
          "text": [
            "INFO:werkzeug:127.0.0.1 - - [25/Oct/2024 17:02:22] \"POST /generate_response HTTP/1.1\" 200 -\n"
          ]
        },
        {
          "metadata": {
            "tags": null
          },
          "name": "stdout",
          "output_type": "stream",
          "text": [
            "```csharp\n",
            "namespace TestsInternal.Tests {\n",
            "    public class SalesOrderTC : Check {\n",
            "        OrderSoQP SalesOrder = new OrderSoQP();\n",
            "        public override void Execute() {\n",
            "            PxLogin.LoginToDestinationSite();\n",
            "            using (TestExecution.CreateTestCaseGroup(\"Testcase1: Create a Sales Order\")) {\n",
            "                using (TestExecution.CreateTestStepGroup(\"Teststep2: Add a sales order\")) {\n",
            "                    SalesOrder.OpenScreen();\n",
            "                    SalesOrder.Insert();\n",
            "                    SalesOrder.Summary.CustomerID.Select(\"Cust123\");\n",
            "                    SalesOrder.Summary.OrderDesc.Type(\"\"); // Provide the order description if needed\n",
            "                    SalesOrder.Save();\n",
            "                }\n",
            "            }\n",
            "        }\n",
            "    }\n",
            "}\n",
            "```\n",
            "Create Sales Order using Customer ID Cust123\n"
          ]
        },
        {
          "metadata": {
            "tags": null
          },
          "name": "stderr",
          "output_type": "stream",
          "text": [
            "INFO:werkzeug:127.0.0.1 - - [25/Oct/2024 17:05:42] \"POST /generate_response HTTP/1.1\" 200 -\n"
          ]
        },
        {
          "metadata": {
            "tags": null
          },
          "name": "stdout",
          "output_type": "stream",
          "text": [
            "Certainly! Here's the code snippet with the specified modifications:\n",
            "\n",
            "```csharp\n",
            "namespace TestsInternal.Tests {\n",
            "    public class SalesOrderTC : Check {\n",
            "        OrderSoQP SalesOrder = new OrderSoQP();\n",
            "        public override void Execute() {\n",
            "            PxLogin.LoginToDestinationSite();\n",
            "            using (TestExecution.CreateTestCaseGroup(\"Testcase1: Create a Sales Order\")) {\n",
            "                using (TestExecution.CreateTestStepGroup(\"Teststep2: Add a sales order\")) {\n",
            "                    SalesOrder.OpenScreen();\n",
            "                    SalesOrder.Insert();\n",
            "                    SalesOrder.Summary.CustomerID.Select(\"Cust123\");\n",
            "                    SalesOrder.Summary.OrderDesc.Type(\"\");\n",
            "                    SalesOrder.Save();\n",
            "                }\n",
            "            }\n",
            "        }\n",
            "    }\n",
            "}\n",
            "```\n",
            "create sales order\n"
          ]
        },
        {
          "metadata": {
            "tags": null
          },
          "name": "stderr",
          "output_type": "stream",
          "text": [
            "INFO:werkzeug:127.0.0.1 - - [25/Oct/2024 17:39:36] \"POST /generate_response HTTP/1.1\" 200 -\n"
          ]
        },
        {
          "metadata": {
            "tags": null
          },
          "name": "stdout",
          "output_type": "stream",
          "text": [
            "Certainly! Here is the code to create a sales order based on the provided snippet:\n",
            "\n",
            "```csharp\n",
            "namespace TestsInternal.Tests {\n",
            "    public class SalesOrderTC : Check {\n",
            "        OrderSoQP SalesOrder = new OrderSoQP();\n",
            "        public override void Execute() {\n",
            "            PxLogin.LoginToDestinationSite();\n",
            "            using (TestExecution.CreateTestCaseGroup(\"Testcase1: Create a Sales Order\")) {\n",
            "                using (TestExecution.CreateTestStepGroup(\"Teststep2: Add a sales order\")) {\n",
            "                    SalesOrder.OpenScreen();\n",
            "                    SalesOrder.Insert();\n",
            "                    SalesOrder.Summary.CustomerID.Select(\"\");\n",
            "                    SalesOrder.Summary.OrderDesc.Type(\"\");\n",
            "                    SalesOrder.Save();\n",
            "                }\n",
            "            }\n",
            "        }\n",
            "    }\n",
            "}\n",
            "```\n"
          ]
        }
      ]
    }
  ]
}
