{
  "nbformat": 4,
  "nbformat_minor": 0,
  "metadata": {
    "colab": {
      "provenance": [],
      "gpuType": "T4",
      "include_colab_link": true
    },
    "kernelspec": {
      "name": "python3",
      "display_name": "Python 3"
    },
    "language_info": {
      "name": "python"
    },
    "accelerator": "GPU",
    "widgets": {
      "application/vnd.jupyter.widget-state+json": {
        "a3c6dece3b30496c90615344c01e595f": {
          "model_module": "@jupyter-widgets/controls",
          "model_name": "HBoxModel",
          "model_module_version": "1.5.0",
          "state": {
            "_dom_classes": [],
            "_model_module": "@jupyter-widgets/controls",
            "_model_module_version": "1.5.0",
            "_model_name": "HBoxModel",
            "_view_count": null,
            "_view_module": "@jupyter-widgets/controls",
            "_view_module_version": "1.5.0",
            "_view_name": "HBoxView",
            "box_style": "",
            "children": [
              "IPY_MODEL_3827b964684a43088c5b7115537f3559",
              "IPY_MODEL_9ad17562c7594207a8a520da2476975d",
              "IPY_MODEL_2a9b22f98bc24000b02753693b19b009"
            ],
            "layout": "IPY_MODEL_2b9dd5e8069e4e0880399e26f9d5f256"
          }
        },
        "3827b964684a43088c5b7115537f3559": {
          "model_module": "@jupyter-widgets/controls",
          "model_name": "HTMLModel",
          "model_module_version": "1.5.0",
          "state": {
            "_dom_classes": [],
            "_model_module": "@jupyter-widgets/controls",
            "_model_module_version": "1.5.0",
            "_model_name": "HTMLModel",
            "_view_count": null,
            "_view_module": "@jupyter-widgets/controls",
            "_view_module_version": "1.5.0",
            "_view_name": "HTMLView",
            "description": "",
            "description_tooltip": null,
            "layout": "IPY_MODEL_822ac34485544178b76ab118064a1e05",
            "placeholder": "​",
            "style": "IPY_MODEL_dde3b6737b3244d2a7ef211b3a012a0e",
            "value": "Loading checkpoint shards: 100%"
          }
        },
        "9ad17562c7594207a8a520da2476975d": {
          "model_module": "@jupyter-widgets/controls",
          "model_name": "FloatProgressModel",
          "model_module_version": "1.5.0",
          "state": {
            "_dom_classes": [],
            "_model_module": "@jupyter-widgets/controls",
            "_model_module_version": "1.5.0",
            "_model_name": "FloatProgressModel",
            "_view_count": null,
            "_view_module": "@jupyter-widgets/controls",
            "_view_module_version": "1.5.0",
            "_view_name": "ProgressView",
            "bar_style": "success",
            "description": "",
            "description_tooltip": null,
            "layout": "IPY_MODEL_8a2450104ce146adbb64bab1adda4a96",
            "max": 8,
            "min": 0,
            "orientation": "horizontal",
            "style": "IPY_MODEL_b1c3bbaad7894020b8a7ba8afdcc168e",
            "value": 8
          }
        },
        "2a9b22f98bc24000b02753693b19b009": {
          "model_module": "@jupyter-widgets/controls",
          "model_name": "HTMLModel",
          "model_module_version": "1.5.0",
          "state": {
            "_dom_classes": [],
            "_model_module": "@jupyter-widgets/controls",
            "_model_module_version": "1.5.0",
            "_model_name": "HTMLModel",
            "_view_count": null,
            "_view_module": "@jupyter-widgets/controls",
            "_view_module_version": "1.5.0",
            "_view_name": "HTMLView",
            "description": "",
            "description_tooltip": null,
            "layout": "IPY_MODEL_dc7d41ed81c34cae8d6f22e4bc055c47",
            "placeholder": "​",
            "style": "IPY_MODEL_cdf9330490674b648f24c673fba357bc",
            "value": " 8/8 [01:13&lt;00:00,  7.04s/it]"
          }
        },
        "2b9dd5e8069e4e0880399e26f9d5f256": {
          "model_module": "@jupyter-widgets/base",
          "model_name": "LayoutModel",
          "model_module_version": "1.2.0",
          "state": {
            "_model_module": "@jupyter-widgets/base",
            "_model_module_version": "1.2.0",
            "_model_name": "LayoutModel",
            "_view_count": null,
            "_view_module": "@jupyter-widgets/base",
            "_view_module_version": "1.2.0",
            "_view_name": "LayoutView",
            "align_content": null,
            "align_items": null,
            "align_self": null,
            "border": null,
            "bottom": null,
            "display": null,
            "flex": null,
            "flex_flow": null,
            "grid_area": null,
            "grid_auto_columns": null,
            "grid_auto_flow": null,
            "grid_auto_rows": null,
            "grid_column": null,
            "grid_gap": null,
            "grid_row": null,
            "grid_template_areas": null,
            "grid_template_columns": null,
            "grid_template_rows": null,
            "height": null,
            "justify_content": null,
            "justify_items": null,
            "left": null,
            "margin": null,
            "max_height": null,
            "max_width": null,
            "min_height": null,
            "min_width": null,
            "object_fit": null,
            "object_position": null,
            "order": null,
            "overflow": null,
            "overflow_x": null,
            "overflow_y": null,
            "padding": null,
            "right": null,
            "top": null,
            "visibility": null,
            "width": null
          }
        },
        "822ac34485544178b76ab118064a1e05": {
          "model_module": "@jupyter-widgets/base",
          "model_name": "LayoutModel",
          "model_module_version": "1.2.0",
          "state": {
            "_model_module": "@jupyter-widgets/base",
            "_model_module_version": "1.2.0",
            "_model_name": "LayoutModel",
            "_view_count": null,
            "_view_module": "@jupyter-widgets/base",
            "_view_module_version": "1.2.0",
            "_view_name": "LayoutView",
            "align_content": null,
            "align_items": null,
            "align_self": null,
            "border": null,
            "bottom": null,
            "display": null,
            "flex": null,
            "flex_flow": null,
            "grid_area": null,
            "grid_auto_columns": null,
            "grid_auto_flow": null,
            "grid_auto_rows": null,
            "grid_column": null,
            "grid_gap": null,
            "grid_row": null,
            "grid_template_areas": null,
            "grid_template_columns": null,
            "grid_template_rows": null,
            "height": null,
            "justify_content": null,
            "justify_items": null,
            "left": null,
            "margin": null,
            "max_height": null,
            "max_width": null,
            "min_height": null,
            "min_width": null,
            "object_fit": null,
            "object_position": null,
            "order": null,
            "overflow": null,
            "overflow_x": null,
            "overflow_y": null,
            "padding": null,
            "right": null,
            "top": null,
            "visibility": null,
            "width": null
          }
        },
        "dde3b6737b3244d2a7ef211b3a012a0e": {
          "model_module": "@jupyter-widgets/controls",
          "model_name": "DescriptionStyleModel",
          "model_module_version": "1.5.0",
          "state": {
            "_model_module": "@jupyter-widgets/controls",
            "_model_module_version": "1.5.0",
            "_model_name": "DescriptionStyleModel",
            "_view_count": null,
            "_view_module": "@jupyter-widgets/base",
            "_view_module_version": "1.2.0",
            "_view_name": "StyleView",
            "description_width": ""
          }
        },
        "8a2450104ce146adbb64bab1adda4a96": {
          "model_module": "@jupyter-widgets/base",
          "model_name": "LayoutModel",
          "model_module_version": "1.2.0",
          "state": {
            "_model_module": "@jupyter-widgets/base",
            "_model_module_version": "1.2.0",
            "_model_name": "LayoutModel",
            "_view_count": null,
            "_view_module": "@jupyter-widgets/base",
            "_view_module_version": "1.2.0",
            "_view_name": "LayoutView",
            "align_content": null,
            "align_items": null,
            "align_self": null,
            "border": null,
            "bottom": null,
            "display": null,
            "flex": null,
            "flex_flow": null,
            "grid_area": null,
            "grid_auto_columns": null,
            "grid_auto_flow": null,
            "grid_auto_rows": null,
            "grid_column": null,
            "grid_gap": null,
            "grid_row": null,
            "grid_template_areas": null,
            "grid_template_columns": null,
            "grid_template_rows": null,
            "height": null,
            "justify_content": null,
            "justify_items": null,
            "left": null,
            "margin": null,
            "max_height": null,
            "max_width": null,
            "min_height": null,
            "min_width": null,
            "object_fit": null,
            "object_position": null,
            "order": null,
            "overflow": null,
            "overflow_x": null,
            "overflow_y": null,
            "padding": null,
            "right": null,
            "top": null,
            "visibility": null,
            "width": null
          }
        },
        "b1c3bbaad7894020b8a7ba8afdcc168e": {
          "model_module": "@jupyter-widgets/controls",
          "model_name": "ProgressStyleModel",
          "model_module_version": "1.5.0",
          "state": {
            "_model_module": "@jupyter-widgets/controls",
            "_model_module_version": "1.5.0",
            "_model_name": "ProgressStyleModel",
            "_view_count": null,
            "_view_module": "@jupyter-widgets/base",
            "_view_module_version": "1.2.0",
            "_view_name": "StyleView",
            "bar_color": null,
            "description_width": ""
          }
        },
        "dc7d41ed81c34cae8d6f22e4bc055c47": {
          "model_module": "@jupyter-widgets/base",
          "model_name": "LayoutModel",
          "model_module_version": "1.2.0",
          "state": {
            "_model_module": "@jupyter-widgets/base",
            "_model_module_version": "1.2.0",
            "_model_name": "LayoutModel",
            "_view_count": null,
            "_view_module": "@jupyter-widgets/base",
            "_view_module_version": "1.2.0",
            "_view_name": "LayoutView",
            "align_content": null,
            "align_items": null,
            "align_self": null,
            "border": null,
            "bottom": null,
            "display": null,
            "flex": null,
            "flex_flow": null,
            "grid_area": null,
            "grid_auto_columns": null,
            "grid_auto_flow": null,
            "grid_auto_rows": null,
            "grid_column": null,
            "grid_gap": null,
            "grid_row": null,
            "grid_template_areas": null,
            "grid_template_columns": null,
            "grid_template_rows": null,
            "height": null,
            "justify_content": null,
            "justify_items": null,
            "left": null,
            "margin": null,
            "max_height": null,
            "max_width": null,
            "min_height": null,
            "min_width": null,
            "object_fit": null,
            "object_position": null,
            "order": null,
            "overflow": null,
            "overflow_x": null,
            "overflow_y": null,
            "padding": null,
            "right": null,
            "top": null,
            "visibility": null,
            "width": null
          }
        },
        "cdf9330490674b648f24c673fba357bc": {
          "model_module": "@jupyter-widgets/controls",
          "model_name": "DescriptionStyleModel",
          "model_module_version": "1.5.0",
          "state": {
            "_model_module": "@jupyter-widgets/controls",
            "_model_module_version": "1.5.0",
            "_model_name": "DescriptionStyleModel",
            "_view_count": null,
            "_view_module": "@jupyter-widgets/base",
            "_view_module_version": "1.2.0",
            "_view_name": "StyleView",
            "description_width": ""
          }
        }
      }
    }
  },
  "cells": [
    {
      "cell_type": "markdown",
      "metadata": {
        "id": "view-in-github",
        "colab_type": "text"
      },
      "source": [
        "<a href=\"https://colab.research.google.com/github/pddmadushan/2024-Hackathon-Team-Ai-Teco/blob/main/Code-Generation-LLM-Local.ipynb\" target=\"_parent\"><img src=\"https://colab.research.google.com/assets/colab-badge.svg\" alt=\"Open In Colab\"/></a>"
      ]
    },
    {
      "cell_type": "code",
      "source": [
        "# Step 1: Install Required Libraries\n",
        "!pip install -q torch transformers sentence-transformers faiss-cpu accelerate pyngrok flask_cors\n",
        "\n",
        "# Step 2: Load Required Libraries\n",
        "from sentence_transformers import SentenceTransformer\n",
        "import numpy as np\n",
        "import faiss\n",
        "\n",
        "# Step 3: Load and Parse RAG Text File\n",
        "file_path = '/content/SampleTestCode2.txt'  # Change this to your actual file path\n",
        "\n",
        "with open(file_path, 'r') as f:\n",
        "    text_data = f.read()\n",
        "\n",
        "# Step 4: Parsing Logic to Extract Chunks Enclosed in `### ... ###`\n",
        "import re\n",
        "\n",
        "# Pattern to match any text enclosed by `### ... ###`\n",
        "pattern = r'###(.*?)###'\n",
        "\n",
        "# Extract all matches for text enclosed by ###\n",
        "matches = re.findall(pattern, text_data, re.DOTALL)\n",
        "\n",
        "# Check if matches are detected and display them for debugging\n",
        "if not matches:\n",
        "    print(\"No matches found. Please check the file format.\")\n",
        "else:\n",
        "    print(f\"Total matches found: {len(matches)}\")\n",
        "\n",
        "# Format chunks by stripping any extra whitespace\n",
        "formatted_chunks = [match.strip() for match in matches]\n",
        "\n",
        "# Final check on chunks\n",
        "print(f\"Number of formatted chunks: {len(formatted_chunks)}\")\n",
        "if formatted_chunks:\n",
        "    print(f\"First formatted chunk:\\n{formatted_chunks[0]}\")\n",
        "\n",
        "# Step 5: Load Sentence Transformer Model for Embeddings\n",
        "embedding_model = SentenceTransformer('all-MiniLM-L6-v2')\n",
        "\n",
        "# Step 6: Create Embeddings for Each Chunk\n",
        "embeddings = embedding_model.encode(formatted_chunks)\n",
        "\n",
        "# Check the shape of embeddings\n",
        "print(f\"Embeddings shape: {embeddings.shape}\")\n",
        "\n",
        "# Ensure embeddings are valid before proceeding\n",
        "if embeddings.size == 0:\n",
        "    raise ValueError(\"No embeddings were created. Please check your input data.\")\n",
        "\n",
        "# Step 7: Create a FAISS Index for Efficient Retrieval\n",
        "dimension = embeddings.shape[1]  # Get the number of dimensions for FAISS index\n",
        "index = faiss.IndexFlatL2(dimension)  # L2 distance index\n",
        "index.add(np.array(embeddings))  # Add your embeddings to the index\n",
        "\n",
        "print(\"FAISS index created and embeddings added successfully.\")\n",
        "\n",
        "# Step 8: Define Retrieval Function with Deduplication\n",
        "def retrieve_code(query):\n",
        "    query_embedding = embedding_model.encode([query])\n",
        "    distances, indices = index.search(np.array(query_embedding), k=1)  # Retrieve only the top 1 similar chunk\n",
        "\n",
        "    # Get the most relevant chunk based on the top index\n",
        "    top_chunk = formatted_chunks[indices[0][0]] if indices[0][0] < len(formatted_chunks) else None\n",
        "\n",
        "    # Clean up any unexpected whitespace or newlines\n",
        "    return top_chunk.strip() if top_chunk else None"
      ],
      "metadata": {
        "colab": {
          "base_uri": "https://localhost:8080/"
        },
        "id": "4N43bVG_oJR5",
        "outputId": "d8d7ab26-6765-4698-98bd-eb5b6241576d"
      },
      "execution_count": 1,
      "outputs": [
        {
          "output_type": "stream",
          "name": "stderr",
          "text": [
            "/usr/local/lib/python3.10/dist-packages/sentence_transformers/cross_encoder/CrossEncoder.py:13: TqdmExperimentalWarning: Using `tqdm.autonotebook.tqdm` in notebook mode. Use `tqdm.tqdm` instead to force console mode (e.g. in jupyter console)\n",
            "  from tqdm.autonotebook import tqdm, trange\n"
          ]
        },
        {
          "output_type": "stream",
          "name": "stdout",
          "text": [
            "Total matches found: 1\n",
            "Number of formatted chunks: 1\n",
            "First formatted chunk:\n",
            "Prompt: Create a purchase order from sales order screen. \n",
            "namespace TestsInternal.Tests { // Define the test case [TestDescription(\"PurchaseOrderTC\")] public class PurchaseTC : Check { // Create instances of required classes CreatePurchaseOrders CreatePurchaseOrders = new CreatePurchaseOrders(); OrderPo OrderPo = new OrderPo(); public override void Execute() { // Log in to the destination site PxLogin.LoginToDestinationSite(); #region Testcase1: Create a Purchase Order using (TestExecution.CreateTestCaseGroup(\"Testcase1: Create a purchase order\")) { #region Teststep1: Create a Purchase Order using (TestExecution.CreateTestStepGroup(\"Teststep1: Create a purchase order\")) { // Navigate to the appropriate row and perform actions CreatePurchaseOrders.Details.SelectRow(CreatePurchaseOrders.Details.Columns.InventoryID, \"DRAGONFR\"); CreatePurchaseOrders.Details.Row.VendorID.Select(\"ALLFRUITS\"); // Select Vendor ID CreatePurchaseOrders.Details.Row.POSiteID.Select(\"RETAIL\"); // Select the PO Site CreatePurchaseOrders.Process(); // Process the Purchase Order // Verify details and complete the order OrderPo.DocumentDetails.SelectRow(OrderPo.DocumentDetails.Columns.InventoryID, \"DRAGONFR\"); OrderPo.DocumentDetails.Row.CuryUnitCost.GetValue().VerifyEquals(2.75m); // Verify the unit cost OrderPo.Summary.OrderDesc.Type(\"Sample PO\"); // Type the order description OrderPo.ReleaseFromHold(); // Release the order from hold OrderPo.Save(); // Save the order // Retrieve the Purchase Order number PONbr = OrderPo.Summary.OrderNbr.GetValue(); } #endregion } #endregion } } }\n"
          ]
        },
        {
          "output_type": "stream",
          "name": "stderr",
          "text": [
            "/usr/local/lib/python3.10/dist-packages/huggingface_hub/utils/_token.py:89: UserWarning: \n",
            "The secret `HF_TOKEN` does not exist in your Colab secrets.\n",
            "To authenticate with the Hugging Face Hub, create a token in your settings tab (https://huggingface.co/settings/tokens), set it as secret in your Google Colab and restart your session.\n",
            "You will be able to reuse this secret in all of your notebooks.\n",
            "Please note that authentication is recommended but still optional to access public models or datasets.\n",
            "  warnings.warn(\n",
            "/usr/local/lib/python3.10/dist-packages/transformers/tokenization_utils_base.py:1601: FutureWarning: `clean_up_tokenization_spaces` was not set. It will be set to `True` by default. This behavior will be depracted in transformers v4.45, and will be then set to `False` by default. For more details check this issue: https://github.com/huggingface/transformers/issues/31884\n",
            "  warnings.warn(\n"
          ]
        },
        {
          "output_type": "stream",
          "name": "stdout",
          "text": [
            "Embeddings shape: (1, 384)\n",
            "FAISS index created and embeddings added successfully.\n"
          ]
        }
      ]
    },
    {
      "cell_type": "code",
      "source": [
        "from transformers import LlamaForCausalLM, LlamaTokenizer\n",
        "\n",
        "model_name = \"HuggingFaceH4/zephyr-7b-beta\"  # Change this to your desired LLaMA 2 variant\n",
        "tokenizer = LlamaTokenizer.from_pretrained(model_name)\n",
        "model = LlamaForCausalLM.from_pretrained(model_name, torch_dtype='auto', device_map='auto')"
      ],
      "metadata": {
        "colab": {
          "base_uri": "https://localhost:8080/",
          "height": 105,
          "referenced_widgets": [
            "a3c6dece3b30496c90615344c01e595f",
            "3827b964684a43088c5b7115537f3559",
            "9ad17562c7594207a8a520da2476975d",
            "2a9b22f98bc24000b02753693b19b009",
            "2b9dd5e8069e4e0880399e26f9d5f256",
            "822ac34485544178b76ab118064a1e05",
            "dde3b6737b3244d2a7ef211b3a012a0e",
            "8a2450104ce146adbb64bab1adda4a96",
            "b1c3bbaad7894020b8a7ba8afdcc168e",
            "dc7d41ed81c34cae8d6f22e4bc055c47",
            "cdf9330490674b648f24c673fba357bc"
          ]
        },
        "id": "_xs9GeoOOI0w",
        "outputId": "3e19ac6a-b9db-4665-aec9-c889d8870736"
      },
      "execution_count": 2,
      "outputs": [
        {
          "output_type": "stream",
          "name": "stderr",
          "text": [
            "You are using a model of type mistral to instantiate a model of type llama. This is not supported for all configurations of models and can yield errors.\n"
          ]
        },
        {
          "output_type": "display_data",
          "data": {
            "text/plain": [
              "Loading checkpoint shards:   0%|          | 0/8 [00:00<?, ?it/s]"
            ],
            "application/vnd.jupyter.widget-view+json": {
              "version_major": 2,
              "version_minor": 0,
              "model_id": "a3c6dece3b30496c90615344c01e595f"
            }
          },
          "metadata": {}
        },
        {
          "output_type": "stream",
          "name": "stderr",
          "text": [
            "WARNING:accelerate.big_modeling:Some parameters are on the meta device because they were offloaded to the cpu.\n"
          ]
        }
      ]
    },
    {
      "cell_type": "code",
      "source": [
        "import torch\n",
        "\n",
        "def generate_code(prompt):\n",
        "    inputs = tokenizer(prompt, return_tensors=\"pt\").to(model.device)\n",
        "\n",
        "    with torch.no_grad():\n",
        "        outputs = model.generate(\n",
        "            inputs[\"input_ids\"],\n",
        "            max_length=1000,\n",
        "            num_return_sequences=1,\n",
        "            do_sample=True,\n",
        "            temperature=0.7,\n",
        "        )\n",
        "\n",
        "    generated_code = tokenizer.decode(outputs[0], skip_special_tokens=True)\n",
        "    return generated_code"
      ],
      "metadata": {
        "id": "9Ipa4ixOOIyM"
      },
      "execution_count": 3,
      "outputs": []
    },
    {
      "cell_type": "code",
      "source": [
        "# Import necessary modules\n",
        "from flask import Flask, request, jsonify  # Flask for web server functionality\n",
        "from pyngrok import ngrok  # pyngrok for creating secure tunnels to local servers\n",
        "import requests  # requests for making HTTP requests\n",
        "from flask_cors import CORS  # Import CORS for Cross-Origin Resource Sharing\n",
        "import cv2  # OpenCV for image processing\n",
        "import numpy as np  # NumPy for numerical computing\n",
        "import tensorflow as tf  # TensorFlow for deep learning"
      ],
      "metadata": {
        "id": "WRFrFYXgOIqi"
      },
      "execution_count": 4,
      "outputs": []
    },
    {
      "cell_type": "code",
      "source": [
        "port_no = 5000 #Defining Port"
      ],
      "metadata": {
        "id": "ty2kViT5OR_B"
      },
      "execution_count": 5,
      "outputs": []
    },
    {
      "cell_type": "code",
      "source": [
        "# Initialize Flask app\n",
        "app = Flask(__name__)\n",
        "\n",
        "# Enable CORS for all routes\n",
        "CORS(app)\n",
        "\n",
        "# Set ngrok authentication token\n",
        "ngrok.set_auth_token(\"2nwGagz0j2vNY2LR06XQUiWh1WK_5LD2WrjNPjBQ5d5E8nxBQ\")\n",
        "\n",
        "# Connect to ngrok and get public URL\n",
        "port_no = 5000  # Set the port number\n",
        "public_url = ngrok.connect(port_no).public_url\n",
        "\n",
        "# Define route for home page\n",
        "@app.route(\"/\")\n",
        "def home():\n",
        "    return f\"Running Flask on Google Colab!\"  # Return a message indicating Flask is running\n",
        "\n",
        "# Print the public URL\n",
        "print(f\"To access the Global link please click {public_url}\")"
      ],
      "metadata": {
        "id": "e37K37RVOb-T",
        "colab": {
          "base_uri": "https://localhost:8080/"
        },
        "outputId": "7e01da3c-8798-43e4-aeae-49b87f3d2e40"
      },
      "execution_count": 6,
      "outputs": [
        {
          "output_type": "stream",
          "name": "stdout",
          "text": [
            "To access the Global link please click https://949c-34-125-116-2.ngrok-free.app\n"
          ]
        }
      ]
    },
    {
      "cell_type": "code",
      "source": [
        "# Define route for generating responses\n",
        "@app.route('/generate_response', methods=['POST'])\n",
        "def generate_response():\n",
        "    # Get prompt from the request\n",
        "    data = request.json\n",
        "    userQuery = data.get('userQuery', '')\n",
        "\n",
        "    print(userQuery)\n",
        "\n",
        "    # Wrap the prompt using the right chat template\n",
        "    relevant_chunks = retrieve_code(userQuery)\n",
        "    context = relevant_chunks\n",
        "    prompt = f\"Based on the following code snippets: {context}, please only  the generate code for and dont add comments as well : {userQuery}\"\n",
        "\n",
        "    # Trim the response, remove instruction manually\n",
        "    response = generate_code(prompt)\n",
        "\n",
        "    # Replace actual newlines in the response string for JSON\n",
        "    response = response.replace('\\n', '$')\n",
        "\n",
        "    print(response)\n",
        "\n",
        "    # Return the generated response as JSON\n",
        "    return jsonify({\"response\": response})\n",
        "\n",
        "# Start the Flask app\n",
        "if __name__ == '__main__':\n",
        "    app.run(port=port_no)  # Run the app on the specified port\n"
      ],
      "metadata": {
        "id": "EsAXVmilOhy_",
        "colab": {
          "base_uri": "https://localhost:8080/"
        },
        "outputId": "128b31d1-20a6-4f7b-bc93-5d67e096fbb6"
      },
      "execution_count": null,
      "outputs": [
        {
          "output_type": "stream",
          "name": "stdout",
          "text": [
            " * Serving Flask app '__main__'\n",
            " * Debug mode: off\n"
          ]
        },
        {
          "output_type": "stream",
          "name": "stderr",
          "text": [
            "INFO:werkzeug:\u001b[31m\u001b[1mWARNING: This is a development server. Do not use it in a production deployment. Use a production WSGI server instead.\u001b[0m\n",
            " * Running on http://127.0.0.1:5000\n",
            "INFO:werkzeug:\u001b[33mPress CTRL+C to quit\u001b[0m\n",
            "The attention mask and the pad token id were not set. As a consequence, you may observe unexpected behavior. Please pass your input's `attention_mask` to obtain reliable results.\n",
            "Setting `pad_token_id` to `eos_token_id`:2 for open-end generation.\n",
            "The attention mask is not set and cannot be inferred from input because pad token is same as eos token. As a consequence, you may observe unexpected behavior. Please pass your input's `attention_mask` to obtain reliable results.\n"
          ]
        },
        {
          "output_type": "stream",
          "name": "stdout",
          "text": [
            "create a sales order\n"
          ]
        },
        {
          "output_type": "stream",
          "name": "stderr",
          "text": [
            "INFO:werkzeug:127.0.0.1 - - [25/Oct/2024 18:25:50] \"POST /generate_response HTTP/1.1\" 200 -\n"
          ]
        },
        {
          "output_type": "stream",
          "name": "stdout",
          "text": [
            "Based on the following code snippets: Prompt: Create a purchase order from sales order screen. $namespace TestsInternal.Tests { // Define the test case [TestDescription(\"PurchaseOrderTC\")] public class PurchaseTC : Check { // Create instances of required classes CreatePurchaseOrders CreatePurchaseOrders = new CreatePurchaseOrders(); OrderPo OrderPo = new OrderPo(); public override void Execute() { // Log in to the destination site PxLogin.LoginToDestinationSite(); #region Testcase1: Create a Purchase Order using (TestExecution.CreateTestCaseGroup(\"Testcase1: Create a purchase order\")) { #region Teststep1: Create a Purchase Order using (TestExecution.CreateTestStepGroup(\"Teststep1: Create a purchase order\")) { // Navigate to the appropriate row and perform actions CreatePurchaseOrders.Details.SelectRow(CreatePurchaseOrders.Details.Columns.InventoryID, \"DRAGONFR\"); CreatePurchaseOrders.Details.Row.VendorID.Select(\"ALLFRUITS\"); // Select Vendor ID CreatePurchaseOrders.Details.Row.POSiteID.Select(\"RETAIL\"); // Select the PO Site CreatePurchaseOrders.Process(); // Process the Purchase Order // Verify details and complete the order OrderPo.DocumentDetails.SelectRow(OrderPo.DocumentDetails.Columns.InventoryID, \"DRAGONFR\"); OrderPo.DocumentDetails.Row.CuryUnitCost.GetValue().VerifyEquals(2.75m); // Verify the unit cost OrderPo.Summary.OrderDesc.Type(\"Sample PO\"); // Type the order description OrderPo.ReleaseFromHold(); // Release the order from hold OrderPo.Save(); // Save the order // Retrieve the Purchase Order number PONbr = OrderPo.Summary.OrderNbr.GetValue(); } #endregion } #endregion } } }, please only  the generate code for and dont add comments as well : create a sales order and generate the invoice.$namespace TestsInternal.Tests { // Define the test case [TestDescription(\"SalesOrderTC\")] public class SalesOrderTC : Check { // Create instances of required classes CreateSalesOrders CreateSalesOrders = new CreateSalesOrders(); SalesInvoices SalesInvoices = new SalesInvoices(); Order Order = new Order(); OrderSearch OrderSearch = new OrderSearch(); OrderEntrySetup OrderEntrySetup = new OrderEntrySetup(); public override void Execute() { // Log in to the destination site PxLogin.LoginToDestinationSite(); #region Testcase1: Create a Sales Order and generate Invoice using (TestExecution.CreateTestCaseGroup(\"Testcase1: Create a Sales Order and generate Invoice\")) { #region Teststep1: Create a Sales Order using (TestExecution.CreateTestStepGroup(\"Teststep1: Create a Sales Order\")) { // Navigate to the appropriate row and perform actions CreateSalesOrders.Details.SelectRow(CreateSalesOrders.Details.Columns.InventoryID, \"DRAGONFR\"); CreateSalesOrders.Details.Row.CustomerID.Select(\"ALLCUST\"); // Select Customer ID CreateSalesOrders.Details.Row.OrderType.Select(\"SalesOrder\"); // Select Order Type CreateSalesOrders.Process(); // Process the Sales Order // Verify details and complete the order Order.DocumentDetails.SelectRow(Order.DocumentDetails.Columns.InventoryID, \"DRAGONFR\"); Order.DocumentDetails.Row.CuryUnitPrice.GetValue().VerifyEquals(3.50m); // Verify the unit price Order.Header.OrderDesc.Type(\"Sample SO\"); // Type the order description Order.ReleaseFromHold(); // Release the order from hold Order.Save(); // Save the order // Retrieve the Sales Order number SalesOrderNbr = Order.Summary.OrderNbr.GetValue(); } #endregion } #region Teststep2: Generate Invoice using (TestExecution.CreateTestStepGroup(\"Teststep2: Generate Invoice\")) { // Navigate to Sales Orders and find the Sales Order SalesOrderSearch.Main.Find(); SalesOrderSearch.Main.SearchFor(\"SALESORDER\", SalesOrderNbr); SalesOrderSearch.Main.Click(); // Click on the Sales Order // Navigate to the Invoices tab SalesInvoices.Main.Click(); // Click on the Invoices tab SalesInvoices.Process(); // Process the Sales Order // Verify details and complete the order SalesInvoices.Invoices.SelectRow(SalesInvoices.Invoices.Columns.Inventory\n"
          ]
        },
        {
          "output_type": "stream",
          "name": "stderr",
          "text": [
            "The attention mask and the pad token id were not set. As a consequence, you may observe unexpected behavior. Please pass your input's `attention_mask` to obtain reliable results.\n",
            "Setting `pad_token_id` to `eos_token_id`:2 for open-end generation.\n"
          ]
        },
        {
          "output_type": "stream",
          "name": "stdout",
          "text": [
            "create sales order\n"
          ]
        },
        {
          "output_type": "stream",
          "name": "stderr",
          "text": [
            "INFO:werkzeug:127.0.0.1 - - [25/Oct/2024 18:30:33] \"POST /generate_response HTTP/1.1\" 200 -\n"
          ]
        },
        {
          "output_type": "stream",
          "name": "stdout",
          "text": [
            "Based on the following code snippets: Prompt: Create a purchase order from sales order screen. $namespace TestsInternal.Tests { // Define the test case [TestDescription(\"PurchaseOrderTC\")] public class PurchaseTC : Check { // Create instances of required classes CreatePurchaseOrders CreatePurchaseOrders = new CreatePurchaseOrders(); OrderPo OrderPo = new OrderPo(); public override void Execute() { // Log in to the destination site PxLogin.LoginToDestinationSite(); #region Testcase1: Create a Purchase Order using (TestExecution.CreateTestCaseGroup(\"Testcase1: Create a purchase order\")) { #region Teststep1: Create a Purchase Order using (TestExecution.CreateTestStepGroup(\"Teststep1: Create a purchase order\")) { // Navigate to the appropriate row and perform actions CreatePurchaseOrders.Details.SelectRow(CreatePurchaseOrders.Details.Columns.InventoryID, \"DRAGONFR\"); CreatePurchaseOrders.Details.Row.VendorID.Select(\"ALLFRUITS\"); // Select Vendor ID CreatePurchaseOrders.Details.Row.POSiteID.Select(\"RETAIL\"); // Select the PO Site CreatePurchaseOrders.Process(); // Process the Purchase Order // Verify details and complete the order OrderPo.DocumentDetails.SelectRow(OrderPo.DocumentDetails.Columns.InventoryID, \"DRAGONFR\"); OrderPo.DocumentDetails.Row.CuryUnitCost.GetValue().VerifyEquals(2.75m); // Verify the unit cost OrderPo.Summary.OrderDesc.Type(\"Sample PO\"); // Type the order description OrderPo.ReleaseFromHold(); // Release the order from hold OrderPo.Save(); // Save the order // Retrieve the Purchase Order number PONbr = OrderPo.Summary.OrderNbr.GetValue(); } #endregion } #endregion } } }, please only  the generate code for and dont add comments as well : create sales order from sales order screen. namespace TestsInternal.Tests {   // Define the test case   [TestDescription(\"SalesOrderTC\")]   public class SalesOrderTC : Check {   // Create instances of required classes   CreateSalesOrders CreateSalesOrders = new CreateSalesOrders();   OrderSo OrderSo = new OrderSo();   SalesOrderHeader SalesOrderHeader = new SalesOrderHeader();   SalesOrderLine SalesOrderLine = new SalesOrderLine();   public override void Execute() {   // Log in to the destination site   PxLogin.LoginToDestinationSite();   #region Testcase1: Create a Sales Order using (TestExecution.CreateTestCaseGroup(\"Testcase1: Create a Sales Order\")) {   #region Teststep1: Create a Sales Order using (TestExecution.CreateTestStepGroup(\"Teststep1: Create a Sales Order\")) {   // Navigate to the appropriate row and perform actions   CreateSalesOrders.Details.SelectRow(CreateSalesOrders.Details.Columns.InventoryID, \"DRAGONFR\");   CreateSalesOrders.Details.Row.CuryUnitPrice.Clear();   CreateSalesOrders.Details.Row.CuryUnitPrice.SetValue(2.75m);   CreateSalesOrders.Details.Row.Quantity.SetValue(5);   CreateSalesOrders.Details.Row.CuryExtPrice.SetValue(13.75m);   CreateSalesOrders.Header.OrderType.SetValue(OrderType.Sales);   CreateSalesOrders.Header.CuryOrderDate.SetValue(DateTime.Now);   CreateSalesOrders.Header.CuryTotal.SetValue(68.75m);   CreateSalesOrders.Header.CuryTerms.SetValue(\"Net30\");   CreateSalesOrders.Process();   // Process the Sales Order   // Verify details and complete the order   OrderSo.DocumentDetails.SelectRow(OrderSo.DocumentDetails.Columns.InventoryID, \"DRAGONFR\");   OrderSo.DocumentDetails.Row.CuryUnitPrice.GetValue().VerifyEquals(2.75m);   OrderSo.DocumentDetails.Row.CuryExtPrice.GetValue().VerifyEquals(13.75m);   OrderSo.DocumentDetails.Row.Quantity.GetValue().VerifyEquals(5);   OrderSo.Summary.Total.GetValue().VerifyEquals(68.75m);   OrderSo.Save();   // Save the Sales Order   // Retrieve the Sales Order number   SOwn\n"
          ]
        }
      ]
    }
  ]
}
